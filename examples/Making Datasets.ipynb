{
 "cells": [
  {
   "cell_type": "markdown",
   "metadata": {},
   "source": [
    "# Creating a dataset from NEXRAD LVL II reflectivity data"
   ]
  },
  {
   "cell_type": "markdown",
   "metadata": {},
   "source": [
    "### ########################## THIS FIRST SECTION IS RECOMMENDED TO DO IN PARALLEL\n",
    "\n",
    "Downloading the data and converting it to PNG files takes a lot of time, so the best approach is to do in a cluster. The downloading part I didn't do it, but for the conversion to image files in cluster mode go to repository/examples/cluster and read the README file. Otherwise, follow the next code snippets.  "
   ]
  },
  {
   "cell_type": "markdown",
   "metadata": {},
   "source": [
    "# Download the data"
   ]
  },
  {
   "cell_type": "code",
   "execution_count": null,
   "metadata": {},
   "outputs": [],
   "source": [
    "import nexradaws\n",
    "from datetime import datetime\n",
    "import os"
   ]
  },
  {
   "cell_type": "markdown",
   "metadata": {},
   "source": [
    "You can find more information and the list of available radars, as well as an alternative to download the data here: https://www.ncdc.noaa.gov/nexradinv/\n",
    "\n",
    "Parameters to download the data from AWS:"
   ]
  },
  {
   "cell_type": "code",
   "execution_count": null,
   "metadata": {},
   "outputs": [],
   "source": [
    "save_dir = \"../data/auxiliary_dataset_folder/\" # where files are going to be downloaded\n",
    "from_to_year = [2020,2020]                     # which range of years to download\n",
    "from_to_month = [4,4]                          # which range of month to download\n",
    "from_to_day = [4,13]                           # which range of days to download\n",
    "radar = 'KFWS'                                 # from which radar "
   ]
  },
  {
   "cell_type": "code",
   "execution_count": null,
   "metadata": {
    "scrolled": true
   },
   "outputs": [],
   "source": [
    "try:\n",
    "    os.mkdir(save_dir)\n",
    "except:\n",
    "    pass\n",
    "conn = nexradaws.NexradAwsInterface()\n",
    "for year in range(from_to_year[0],from_to_year[1]+1):\n",
    "    try:\n",
    "        start = datetime(year, from_to_month[0], from_to_day[0], 0, 0)\n",
    "        end = datetime(year, from_to_month[1], from_to_day[1], 0, 0)\n",
    "        scans=conn.get_avail_scans_in_range(start, end, radar)\n",
    "        localfiles = conn.download(scans, save_dir);\n",
    "        print('##############',year, len(scans))\n",
    "    except:\n",
    "        print('##############',year, 'failed')\n",
    "    \n",
    "# delete files finishing in _MDM\n",
    "for filename in os.listdir(save_dir):\n",
    "    if '_MDM' in filename:\n",
    "        os.remove(save_dir+'/'+filename) "
   ]
  },
  {
   "cell_type": "markdown",
   "metadata": {},
   "source": [
    "# Convert ar2v (NexRad files) to PNG (image file)"
   ]
  },
  {
   "cell_type": "code",
   "execution_count": null,
   "metadata": {},
   "outputs": [],
   "source": [
    "import numpy as np\n",
    "import os\n",
    "import imageio\n",
    "import pyart"
   ]
  },
  {
   "cell_type": "code",
   "execution_count": null,
   "metadata": {},
   "outputs": [],
   "source": [
    "def nexrad2cartesian(radar, size):\n",
    "    '''\n",
    "    Parameters:\n",
    "        radar: from pyart.io.read_nexrad_archive() \n",
    "        size: tuple with desire image dimensions Height x Width\n",
    "    Returns:\n",
    "        numpy array with the reflectivity data in cartesian coordinates\n",
    "        '''\n",
    "##################### GRIDING CONFIGURATION ##############################################\n",
    "# http://arm-doe.github.io/pyart-docs-travis/API/generated/pyart.map.grid_from_radars.html\n",
    "    grids = pyart.map.grid_from_radars(                             #  convert to cartesian\n",
    "        radar, \n",
    "        grid_shape = (1, size[0], size[1]),                          # define shape of frames (first dim is Z)\n",
    "        grid_limits = ((radar.altitude['data'][0], 20000.0),         # z\n",
    "                       (-150000, 150000),                            # y\n",
    "                       (-150000, 150000)),                           # x\n",
    "        fields=['reflectivity'],                                     # which data\n",
    "        gridding_algo= 'map_gates_to_grid',                          # gridding algorithm\n",
    "        weighting_function='BARNES2')                                # interpolation fx\n",
    "    img_mtx = grids.fields['reflectivity']['data'][0,:,:]            # grab the reflectivity data (2D image)\n",
    "    img_mtx = np.clip(img_mtx,0,70)                                  # truncate the dbz to lower and upper bounds to produce same colored images when normalizing \n",
    "    img_mtx = np.ma.filled(img_mtx, fill_value=0)                    # complate missing values with 0dBZ\n",
    "    img_mtx = np.rint(img_mtx/70*255)                                # re-scale to 0-255\n",
    "    img_mtx = img_mtx.astype('uint8')                                # use uint8 to be efficient\n",
    "##########################################################################################\n",
    "    return img_mtx"
   ]
  },
  {
   "cell_type": "code",
   "execution_count": null,
   "metadata": {},
   "outputs": [],
   "source": [
    "def nexrad2png(i_path, i_fmt='ar2v', o_fmt='png', size=(64,64)):\n",
    "    \n",
    "    # create the output directory\n",
    "    o_path = i_path + 'PNG/'\n",
    "    try:\n",
    "        print(\"creating dir:\",o_path)\n",
    "        os.mkdir(o_path)\n",
    "    except:\n",
    "        pass             \n",
    "    # iterate over the ar2v files: convert to cartesian and saved them as images\n",
    "    for file in sorted(os.listdir(i_path)):  \n",
    "        outfile = o_path + file + '.' + o_fmt\n",
    "        try:\n",
    "            radar = pyart.io.read_nexrad_archive(i_path+'/'+file) # open the ar2v file\n",
    "        except Exception as e:\n",
    "            print(outfile,\" failed\")\n",
    "            print(e)\n",
    "            continue\n",
    "            \n",
    "        imageio.imwrite(outfile, nexrad2cartesian(radar, size))         # save as image          "
   ]
  },
  {
   "cell_type": "code",
   "execution_count": null,
   "metadata": {},
   "outputs": [],
   "source": [
    "nexrad2png(save_dir)"
   ]
  },
  {
   "cell_type": "markdown",
   "metadata": {},
   "source": [
    "### ################################## FINISH PARALLEL PART"
   ]
  },
  {
   "cell_type": "markdown",
   "metadata": {},
   "source": [
    "## Split images in events of continuous data\n",
    "\n",
    "As radars might fail, there might be missing data. So, here I make sure to group in different folders the files that are continuous."
   ]
  },
  {
   "cell_type": "code",
   "execution_count": 47,
   "metadata": {},
   "outputs": [],
   "source": [
    "from shutil import move, rmtree\n",
    "import os\n",
    "import datetime\n",
    "from PIL import Image"
   ]
  },
  {
   "cell_type": "code",
   "execution_count": 44,
   "metadata": {},
   "outputs": [],
   "source": [
    "def getTimeDiff(file, file_prev):\n",
    "    '''\n",
    "    given to file names, returns the time apart in minutes\n",
    "    '''    \n",
    "    n = os.path.basename(file) # get filename without path\n",
    "    if len(n) == 27:\n",
    "        n = n[4:-8]    \n",
    "    elif len(n) == 23:\n",
    "        n = n[4:-4]               # remove non-date info\n",
    "\n",
    "    n1 = os.path.basename(file_prev)                                   # get filename without path\n",
    "    if len(n1) == 27:\n",
    "        n1 = n1[4:-8]    \n",
    "    elif len(n1) == 23:\n",
    "        n1 = n1[4:-4]  \n",
    "\n",
    "    date_time_obj1 = datetime.datetime.strptime(n1, '%Y%m%d_%H%M%S')\n",
    "    date_time_obj  = datetime.datetime.strptime(n,  '%Y%m%d_%H%M%S')\n",
    "    delta = date_time_obj - date_time_obj1                          # delta in seconds\n",
    "    seconds = datetime.timedelta(delta.days, delta.seconds).total_seconds() #correction for negative numbers\n",
    "\n",
    "    return seconds/60\n",
    "\n",
    "def isRainy(mtx, value=False):\n",
    "    ''' Returns True if a frame is considered to have rain content, to filter the non-rainy events out.\n",
    "    NOT IMPLEMENTED as events containing non-rainy events and developing storms are also desidered\n",
    "    '''\n",
    "    return True\n",
    "\n",
    "    \n",
    "def splitImagesInEvents(i_path, minutes):\n",
    "    '''\n",
    "    Re-order PNGs into files, grouping them by chuncks of continuous times.\n",
    "    Parameters:\n",
    "        i_path: directory with PNG files\n",
    "        minutes: tolerance in minutes to consider to frames continuous\n",
    "    \n",
    "    Returns:\n",
    "        None\n",
    "    '''\n",
    "    i_event = 0                                         \n",
    "    so_path = i_path + 'event_' + str(i_event) + '/'\n",
    "    os.mkdir(so_path)\n",
    "    file_prev = None\n",
    "    \n",
    "    for file in sorted(os.listdir(i_path)):    \n",
    "        if not file.endswith('png'): continue\n",
    "        img_mtx = np.array(Image.open(i_path+file))\n",
    "        if isRainy(img_mtx): \n",
    "        # implement isRainy() if want to discard non-rainy frames, which would cause a gap in time\n",
    "            if isConsecutiveFrame(file_prev, file, minutes):                   \n",
    "                move(i_path+file, so_path+file)                       \n",
    "            else:  # if not consecutive, frames are divided in folder of continues frames\n",
    "                i_event += 1\n",
    "                so_path = i_path + 'event_' + str(i_event) + '/'\n",
    "                os.mkdir(so_path)\n",
    "                move(i_path+file, so_path+file)\n",
    "        file_prev = file\n",
    "\n",
    "def isConsecutiveFrame(file_prev, file, minutes):\n",
    "    '''\n",
    "    given to file names, returns True if they are less than 'minutes' apart.   \n",
    "    # filename example 1: KCYS20190301_023051_V06.png\n",
    "    # filename example 2: KCYS20190301_023051.png\n",
    "    '''    \n",
    "    if file_prev==None:\n",
    "        return True\n",
    "    else:\n",
    "        return getTimeDiff(file, file_prev) < minutes  \n",
    "    "
   ]
  },
  {
   "cell_type": "code",
   "execution_count": 46,
   "metadata": {},
   "outputs": [],
   "source": [
    "png_dir = \"../data/auxiliary_dataset_folder/PNG/\"\n",
    "splitImagesInEvents(png_dir, minutes=7)"
   ]
  },
  {
   "cell_type": "markdown",
   "metadata": {},
   "source": [
    "### Delete folders with less than N frames"
   ]
  },
  {
   "cell_type": "markdown",
   "metadata": {},
   "source": [
    "Just to avoid having multiple folders with really few files"
   ]
  },
  {
   "cell_type": "code",
   "execution_count": 49,
   "metadata": {},
   "outputs": [],
   "source": [
    "def getSizeDir(path):\n",
    "    return len([name for name in os.listdir(path)])\n",
    "    #return len([name for name in os.listdir(path) if os.path.isfile(path+name)])\n",
    "\n",
    "def delFolderWithLess(dir1, N):\n",
    "    for subdir, dirs, files in os.walk(dir1):\n",
    "        if not ('event' in subdir): continue\n",
    "        l = getSizeDir(subdir)\n",
    "        print(subdir, 'has', l, 'files')\n",
    "        if l < N:                                     # remove all dirs that have less than 20 frames\n",
    "            rmtree(subdir)"
   ]
  },
  {
   "cell_type": "code",
   "execution_count": 50,
   "metadata": {},
   "outputs": [
    {
     "name": "stdout",
     "output_type": "stream",
     "text": [
      "../data/auxiliary_dataset_folder/PNG/event_0 has 227 files\n",
      "../data/auxiliary_dataset_folder/PNG/event_1 has 1 files\n"
     ]
    }
   ],
   "source": [
    "delFolderWithLess(png_dir, N=16)"
   ]
  },
  {
   "cell_type": "markdown",
   "metadata": {},
   "source": [
    "## Create numpy files with the events"
   ]
  },
  {
   "cell_type": "code",
   "execution_count": 54,
   "metadata": {},
   "outputs": [],
   "source": [
    "def events2dataset(in_dir, seq_length, H=64,W=64):\n",
    "    '''\n",
    "    Parameters:\n",
    "        in_dir: directory with event folders\n",
    "        dataset_name: name for the output npy file\n",
    "        seq_length: length of each event (sample)\n",
    "        H,W: height and width of the images\n",
    "    Returns:\n",
    "        data: numpy file with multiple events \n",
    "        data_names: numpy file names of each event \n",
    "    '''\n",
    "    data = np.zeros([1,seq_length,H,W], dtype='uint8')\n",
    "    data_names = np.zeros([1,seq_length], dtype=object)\n",
    "\n",
    "    for subdir, dirs, files in os.walk(in_dir):\n",
    "        if not ('event' in subdir): continue   \n",
    "        if getSizeDir(subdir) < seq_length: continue # ignore events with less than N frames\n",
    "        data_aux = []\n",
    "        data_name_aux = []\n",
    "        files.sort()\n",
    "        indexes = group_indexes(len(files),seq_length)\n",
    "        for i in indexes:                         # discard surplus frames\n",
    "            for f in files[i:i+seq_length]:   # iterate files and create dataset matrix\n",
    "                img = Image.open(subdir+'/'+f)\n",
    "                data_aux.append(np.array(img, dtype='uint8'))        \n",
    "                data_name_aux.append(f)    \n",
    "            #print(np.expand_dims(np.array(data_aux),axis=0).shape)\n",
    "            data = np.append(data,np.expand_dims(np.array(data_aux),axis=0),0)\n",
    "            data_names = np.append(data_names,np.expand_dims(np.array(data_name_aux),axis=0),0)\n",
    "            data_aux = []\n",
    "            data_name_aux = [] \n",
    "    data  = np.delete(data,0,0)\n",
    "    data_names  = np.delete(data_names,0,0)\n",
    "    return data, data_names\n",
    "            \n",
    "def group_indexes(total_length,seq_length):\n",
    "    '''\n",
    "    returns a list of initial indexes for using all \"total_length\" events in groups of \"seq_length\"\n",
    "    '''\n",
    "    # training frames can be those used as prediction for other sequence\n",
    "    groups_length = seq_length/2\n",
    "    index = []\n",
    "    i=0\n",
    "    while i+seq_length < total_length:# i in range(int(total_length/groups_length)):\n",
    "        index.append(i)\n",
    "        i = i+groups_length\n",
    "    #if there are N=10 frames unused, overlap so they are included\n",
    "    if total_length-i+groups_length-seq_length >= 10:\n",
    "        index.append(total_length-seq_length)\n",
    "    return [int(j) for j in index]"
   ]
  },
  {
   "cell_type": "code",
   "execution_count": 56,
   "metadata": {},
   "outputs": [
    {
     "name": "stdout",
     "output_type": "stream",
     "text": [
      "Dataset has 13 events of 32 frames\n"
     ]
    }
   ],
   "source": [
    "dataset = \"dataset\"\n",
    "data, data_names = events2dataset(png_dir, seq_length=32)\n",
    "np.save(png_dir + dataset, data)\n",
    "np.save(png_dir + dataset + '_names', data_names)\n",
    "s,f,h,w = data.shape\n",
    "print(\"Dataset has\",s,'events of',f,'frames')"
   ]
  },
  {
   "cell_type": "markdown",
   "metadata": {},
   "source": [
    "# Auxiliary dataset operations\n",
    "\n",
    "Merge, balance, training/validation splits"
   ]
  },
  {
   "cell_type": "markdown",
   "metadata": {},
   "source": [
    "### Filter non-rainy events"
   ]
  },
  {
   "cell_type": "code",
   "execution_count": 83,
   "metadata": {},
   "outputs": [],
   "source": [
    "import context\n",
    "from mlnowcasting.utils.utils import is_rainy_event\n",
    "import os\n",
    "\n",
    "def filter_non_rainy(dataset_path, th_dbz=30, th_frame=1):\n",
    "    '''\n",
    "    Remove all non-rainy events from the dataset\n",
    "    Parameters:\n",
    "        dataset_path: path to load the dataset\n",
    "        th_dbz: reflectivity threshold to consider rainy a frame of the event\n",
    "        th_frame: number of frames threshold to consider rainy an event\n",
    "    Returns:\n",
    "        data: filtered dataset\n",
    "        <names>: filtered names (only if the path to the names files was found)\n",
    "    '''\n",
    "    data = np.load(dataset_path)\n",
    "    idx = []\n",
    "    for i in range(len(data)):\n",
    "        rainy = is_rainy_event(data[i], th=th_dbz/70*255, n_frame_th=th_frame)\n",
    "        if not rainy:\n",
    "            idx = np.append(idx,i)\n",
    "    data = np.delete(data,idx, axis=0)\n",
    "    \n",
    "    dataset_names_path = dataset_path[:-4]+'_names'+dataset_path[-4:]\n",
    "    try:\n",
    "        names = np.load(dataset_names_path, allow_pickle=True)\n",
    "        names = np.delete(names,idx, axis=0)\n",
    "        return data,names\n",
    "    except:\n",
    "        print(\"No name file found:\",dataset_names_path)\n",
    "        return data"
   ]
  },
  {
   "cell_type": "code",
   "execution_count": 89,
   "metadata": {},
   "outputs": [
    {
     "name": "stdout",
     "output_type": "stream",
     "text": [
      "Dataset has 0 events of 32 frames\n"
     ]
    },
    {
     "name": "stderr",
     "output_type": "stream",
     "text": [
      "/s/chopin/a/grad/jcuomo/.conda/envs/gpu/lib/python3.7/site-packages/ipykernel_launcher.py:22: DeprecationWarning: using a non-integer array as obj in delete will result in an error in the future\n",
      "/s/chopin/a/grad/jcuomo/.conda/envs/gpu/lib/python3.7/site-packages/ipykernel_launcher.py:27: DeprecationWarning: using a non-integer array as obj in delete will result in an error in the future\n"
     ]
    }
   ],
   "source": [
    "dataset_path = \"../data/auxiliary_dataset_folder/PNG/dataset.npy\" # path to load dataset (and dataset_names of exists)\n",
    "new_dataset = \"dataset_filtered\" # name of the new dataset\n",
    "\n",
    "data, data_names = filter_non_rainy(dataset_path, th_dbz=30, th_frame=1)\n",
    "\n",
    "output_dir = os.path.dirname(os.path.abspath(dataset_path))\n",
    "np.save(output_dir + '/' + new_dataset, data)\n",
    "np.save(output_dir + '/' + new_dataset + '_names', data_names)\n",
    "s,f,h,w = data.shape\n",
    "print(\"Dataset has\",s,'events of',f,'frames')"
   ]
  },
  {
   "cell_type": "markdown",
   "metadata": {},
   "source": [
    "### Merge datasets"
   ]
  },
  {
   "cell_type": "code",
   "execution_count": null,
   "metadata": {},
   "outputs": [],
   "source": [
    "def combine_datasets(list_of_datasets, out_path, frames, height, width):\n",
    "    new_data = np.zeros([1,frames, height, width], dtype='uint8')\n",
    "    for data_path in list_of_datasets:\n",
    "        data = np.load(data_path)\n",
    "        new_data = np.append(new_data,data,0)\n",
    "\n",
    "    return np.delete(data,0,0)\n"
   ]
  },
  {
   "cell_type": "code",
   "execution_count": null,
   "metadata": {},
   "outputs": [],
   "source": [
    "list_of_datasets = ['./datasetA.npy',\n",
    "                    './datasetB.npy',\n",
    "                    './datasetC.npy']\n",
    "\n",
    "new_dataset_filename = './combined_dataset.npy'\n",
    "\n",
    "data = combine_datasets(list_of_datasets, new_dataset_filename, frames=32, height=64, width=64)\n",
    "np.save(new_dataset_filename, data)"
   ]
  },
  {
   "cell_type": "markdown",
   "metadata": {},
   "source": [
    "### Reshape dataset: frame resolution\n",
    "Only recommended to decrease the resolution."
   ]
  },
  {
   "cell_type": "code",
   "execution_count": 132,
   "metadata": {},
   "outputs": [],
   "source": [
    "import cv2\n",
    "\n",
    "def reshape_frame_resolution(i_path, new_size=(64,64)):\n",
    "    large_images = np.load(i_path)\n",
    "    small_images = np.zeros((large_images.shape[0],large_images.shape[1],new_size[0],new_size[1]), dtype='uint8')\n",
    "    for s in range(large_images.shape[0]):\n",
    "        for i in range(large_images.shape[1]):\n",
    "            # cv2.INTER_AREA is used just because is the recommended in the cv2.resize fx for donwsampling\n",
    "            small_images[s,i] = cv2.resize(large_images[s,i], dsize=new_size, interpolation=cv2.INTER_AREA)\n",
    "    return small_images"
   ]
  },
  {
   "cell_type": "code",
   "execution_count": 140,
   "metadata": {},
   "outputs": [
    {
     "name": "stdout",
     "output_type": "stream",
     "text": [
      "Dataset has 13 events of 128x128 frames\n"
     ]
    }
   ],
   "source": [
    "dataset_path     = \"../data/auxiliary_dataset_folder/PNG/dataset.npy\" # path to load dataset\n",
    "new_dataset = \"dataset_reshaped_resolution\" \n",
    "\n",
    "data = reshape_frame_resolution(dataset_path, new_size=(32,32))\n",
    "\n",
    "output_dir = os.path.dirname(os.path.abspath(dataset_path))\n",
    "np.save(output_dir + '/' + new_dataset, data)\n",
    "s,f,h,w = data.shape\n",
    "print(\"Dataset has\",s,'events of',str(h)+'x'+str(w),'frames')"
   ]
  },
  {
   "cell_type": "markdown",
   "metadata": {},
   "source": [
    "### Reshape dataset: frames per event\n",
    "Only to decrease the number of frames. \n",
    "It uses a sliding windows of 1."
   ]
  },
  {
   "cell_type": "code",
   "execution_count": 138,
   "metadata": {},
   "outputs": [],
   "source": [
    "def reshape_indexes(old_length, new_length):\n",
    "    'return N indexes from original sequence to create N shorter sequences'\n",
    "    index = []\n",
    "    i=0\n",
    "    while i+new_length <= old_length:# i in range(int(total_length/groups_length)):\n",
    "        index.append(i)\n",
    "        i = i+1\n",
    "    return [int(j) for j in index]\n",
    "\n",
    "def reshape_frame_dim(file, new_length):\n",
    "    '''\n",
    "    Reshapes a dataset e.g. shape(13,32,64,64) to e.g. shape(117,24,64,64), \n",
    "    where the new one has 117 produced by a sliding window of size 1, (32-24+1)*13\n",
    "    '''\n",
    "    data = np.load(file)\n",
    "    s, old_length, H, W = data.shape\n",
    "    if old_length < new_length:\n",
    "        print(\"Cannot increase the number of frames, only decrease it\")\n",
    "        return\n",
    "    new_data = np.zeros([1,new_length,H,W], dtype='uint8')\n",
    "    for index in reshape_indexes(old_length, new_length):\n",
    "        new_data = np.append(new_data,data[:,index:index+new_length],0)\n",
    "    return np.delete(new_data,0,0)"
   ]
  },
  {
   "cell_type": "code",
   "execution_count": 139,
   "metadata": {},
   "outputs": [
    {
     "name": "stdout",
     "output_type": "stream",
     "text": [
      "Dataset has 117 events of 24 frames\n"
     ]
    }
   ],
   "source": [
    "dataset_path     = \"../data/auxiliary_dataset_folder/PNG/dataset.npy\" # path to load dataset\n",
    "new_dataset = \"dataset_reshaped_length\" \n",
    "\n",
    "data = reshape_frame_dim(dataset_path, new_length=24)\n",
    "\n",
    "output_dir = os.path.dirname(os.path.abspath(dataset_path))\n",
    "np.save(output_dir + '/' + new_dataset, data)\n",
    "s,f,h,w = data.shape\n",
    "print(\"Dataset has\",s,'events of',f,'frames')"
   ]
  },
  {
   "cell_type": "markdown",
   "metadata": {},
   "source": [
    "### Balanced and shuffled dataset (by downsampling non-rainy days)"
   ]
  },
  {
   "cell_type": "code",
   "execution_count": 118,
   "metadata": {},
   "outputs": [],
   "source": [
    "def resampleDataset(file, th_dbz, th_frames):\n",
    "    data = np.load(file)\n",
    "    rainy_info = np.zeros((data.shape[0],3), dtype='uint8') # boolean_is_rainy, score_of_how_rainy, index\n",
    "    for i in range(len(data)):\n",
    "        is_rainy, (score, n_rainy_frames) =  is_rainy_event(data[i], \n",
    "                                                          th_dbz/70*255, \n",
    "                                                          th_frames, \n",
    "                                                          return_score=True)\n",
    "        rainy_info[i] = [is_rainy, n_rainy_frames, i]\n",
    "    \n",
    "    rainy_seqs     = np.count_nonzero(rainy_info==1, axis=0)[0]\n",
    "    non_rainy_seqs = np.count_nonzero(rainy_info==0, axis=0)[0]\n",
    "    idx = []\n",
    "    # if there are more non-rainy days than rainy days, crop non-rainy to match rainy\n",
    "    if non_rainy_seqs > rainy_seqs:\n",
    "        rainy_info = rainy_info[rainy_info[:,1].argsort()] #ordered by rainy score\n",
    "        j = 0\n",
    "        for i in range(len(rainy_info)):\n",
    "            if j == rainy_seqs:\n",
    "                break\n",
    "            if rainy_info[i,0] == 0:\n",
    "                rainy_info[i,0] = 1\n",
    "                j += 1\n",
    "        idx = rainy_info[rainy_info[:,0]==1,2]\n",
    "        resampled_data = data[idx]\n",
    "    # if not, just return the original dataset\n",
    "    else:\n",
    "        resampled_data = data\n",
    "    print(\"Rainy events:\", rainy_seqs, \", Non-Rainy events:\", non_rainy_seqs)\n",
    "    return resampled_data"
   ]
  },
  {
   "cell_type": "code",
   "execution_count": 127,
   "metadata": {},
   "outputs": [
    {
     "name": "stdout",
     "output_type": "stream",
     "text": [
      "Rainy events: 0 , Non-Rainy events: 13\n",
      "Dataset has 0 events of 32 frames\n"
     ]
    }
   ],
   "source": [
    "dataset_path     = \"../data/auxiliary_dataset_folder/PNG/dataset.npy\" # path to load dataset\n",
    "new_dataset = \"dataset_balanced\" \n",
    "\n",
    "data = resampleDataset(dataset_path, th_dbz=30, th_frames=1)\n",
    "\n",
    "output_dir = os.path.dirname(os.path.abspath(dataset_path))\n",
    "np.save(output_dir + '/' + new_dataset, data)\n",
    "s,f,h,w = data.shape\n",
    "print(\"Dataset has\",s,'events of',f,'frames')"
   ]
  },
  {
   "cell_type": "markdown",
   "metadata": {},
   "source": [
    "### Train and validation splitting"
   ]
  },
  {
   "cell_type": "markdown",
   "metadata": {},
   "source": [
    "Highly discourage, as events really similar can appear in both training and validation.\n",
    "Best approach: use a completely different time frame for validation."
   ]
  },
  {
   "cell_type": "code",
   "execution_count": 128,
   "metadata": {},
   "outputs": [
    {
     "name": "stderr",
     "output_type": "stream",
     "text": [
      "/usr/local/anaconda-2019.07/lib/python3.7/site-packages/nose/config.py:178: DeprecationWarning: invalid escape sequence \\.\n",
      "  \"\"\"\n"
     ]
    },
    {
     "name": "stdout",
     "output_type": "stream",
     "text": [
      "Train dataset has 10 events\n",
      "Validation dataset has 3 events\n"
     ]
    }
   ],
   "source": [
    "from sklearn.model_selection import train_test_split\n",
    "\n",
    "dataset_path     = \"../data/auxiliary_dataset_folder/PNG/dataset.npy\" # path to load dataset\n",
    "new_dataset = \"dataset_balanced\" \n",
    "test_size = 0.2\n",
    "\n",
    "train, val = train_test_split(np.load(dataset_path), test_size=test_size, random_state=123, shuffle=True)\n",
    "print('Train dataset has', train.shape[0],'events')\n",
    "print('Validation dataset has', val.shape[0],'events')\n",
    "output_dir = os.path.dirname(os.path.abspath(dataset_path))\n",
    "np.save(output_dir + '/' + new_dataset + '_train', train)\n",
    "np.save(output_dir + '/' + new_dataset + '_validation', val)"
   ]
  },
  {
   "cell_type": "markdown",
   "metadata": {},
   "source": [
    "# Analyzing dataset"
   ]
  },
  {
   "cell_type": "markdown",
   "metadata": {},
   "source": [
    "### Visualizing"
   ]
  },
  {
   "cell_type": "code",
   "execution_count": 184,
   "metadata": {},
   "outputs": [],
   "source": [
    "import context\n",
    "from mlnowcasting.utils.plot_utils import plot_pred\n",
    "\n",
    "def plot_dataset(dataset_path, N_events=None, N_frames=10, title_1st=None, scan_time=5):\n",
    "    \n",
    "    data = np.load(dataset_path)/255*70\n",
    "    length = data.shape[0]\n",
    "    if N_events is None:\n",
    "        N_events = length\n",
    "    plt.figure(figsize=(20,length*3));\n",
    "    masked_th = 20 #dbz\n",
    "    for i,event in enumerate(data):\n",
    "        if i==N_events:\n",
    "            break\n",
    "        is_last_iteration = (i==N_events-1)\n",
    "        layer = np.ma.masked_where(event < masked_th, event)\n",
    "        plot_pred(layer, \n",
    "                  N_frames=N_frames, \n",
    "                  label=i, \n",
    "                  scan_time=scan_time, \n",
    "                  title_1st=title_1st[i],\n",
    "                  plot_colorbar=is_last_iteration, \n",
    "                  bottom_label=is_last_iteration);"
   ]
  },
  {
   "cell_type": "code",
   "execution_count": 185,
   "metadata": {},
   "outputs": [
    {
     "data": {
      "text/plain": [
       "<Figure size 1440x2808 with 0 Axes>"
      ]
     },
     "metadata": {},
     "output_type": "display_data"
    },
    {
     "data": {
      "image/png": "[encoded data removed]",
      "text/plain": [
       "<Figure size 1080x288 with 5 Axes>"
      ]
     },
     "metadata": {
      "needs_background": "light"
     },
     "output_type": "display_data"
    },
    {
     "data": {
      "image/png": "[encoded data removed]",
      "text/plain": [
       "<Figure size 1080x288 with 5 Axes>"
      ]
     },
     "metadata": {
      "needs_background": "light"
     },
     "output_type": "display_data"
    },
    {
     "data": {
      "image/png": "[encoded data removed]",
      "text/plain": [
       "<Figure size 1080x288 with 5 Axes>"
      ]
     },
     "metadata": {
      "needs_background": "light"
     },
     "output_type": "display_data"
    },
    {
     "data": {
      "image/png": "[encoded data removed]",
      "text/plain": [
       "<Figure size 1080x288 with 5 Axes>"
      ]
     },
     "metadata": {
      "needs_background": "light"
     },
     "output_type": "display_data"
    },
    {
     "data": {
      "image/png": "[encoded data removed]",
      "text/plain": [
       "<Figure size 1080x288 with 6 Axes>"
      ]
     },
     "metadata": {
      "needs_background": "light"
     },
     "output_type": "display_data"
    }
   ],
   "source": [
    "dataset_path     = \"../data/auxiliary_dataset_folder/PNG/dataset.npy\" # path to load dataset\n",
    "dataset_names_path     = \"../data/auxiliary_dataset_folder/PNG/dataset_names.npy\" # path to load dataset\n",
    "names_1st = np.load(dataset_names_path, allow_pickle=True)[:,0]\n",
    "plot_dataset(dataset_path, N_events=5, N_frames=5, title_1st=names_1st, scan_time=5);"
   ]
  },
  {
   "cell_type": "markdown",
   "metadata": {},
   "source": [
    "### Reflectivity content"
   ]
  },
  {
   "cell_type": "code",
   "execution_count": 157,
   "metadata": {},
   "outputs": [],
   "source": [
    "%matplotlib inline\n",
    "import matplotlib.pyplot as plt\n",
    "\n",
    "def plot_histogram(dataset_path, N_plots=5, titles=None):\n",
    "    data = np.load(dataset_path)\n",
    "    length = data.shape[1]\n",
    "    skip_frames = int(length/N_plots)\n",
    "    plt.figure(figsize=(15,3))\n",
    "    first=True\n",
    "    for i in range(N_plots):\n",
    "        plt.subplot(1,N_plots,i+1)\n",
    "        if titles is not None:\n",
    "            plt.title(titles[i])\n",
    "        plt.xlabel('Reflectivity [dBZ]')\n",
    "        if first:\n",
    "            plt.ylabel('% per frame')\n",
    "            first=False\n",
    "        else:\n",
    "            plt.yticks([])\n",
    "        x, bins, p = plt.hist(data[0,i*skip_frames].flatten()/255*70,70, density=True);\n",
    "        plt.ylim(0,1)\n",
    "        plt.xlim(0,70)\n",
    "        plt.tight_layout()"
   ]
  },
  {
   "cell_type": "code",
   "execution_count": 158,
   "metadata": {},
   "outputs": [
    {
     "data": {
      "image/png": "[encoded data removed]",
      "text/plain": [
       "<Figure size 1080x216 with 5 Axes>"
      ]
     },
     "metadata": {
      "needs_background": "light"
     },
     "output_type": "display_data"
    }
   ],
   "source": [
    "dataset_path     = \"../data/auxiliary_dataset_folder/PNG/dataset.npy\" # path to load dataset\n",
    "titles=['- 1 hr 20 min', '- 40 min', '+ 0 min', '+ 1 hr 20 min', '+ 2 hr']\n",
    "plot_histogram(dataset_path)"
   ]
  }
 ],
 "metadata": {
  "kernelspec": {
   "display_name": "Python 3",
   "language": "python",
   "name": "python3"
  },
  "language_info": {
   "codemirror_mode": {
    "name": "ipython",
    "version": 3
   },
   "file_extension": ".py",
   "mimetype": "text/x-python",
   "name": "python",
   "nbconvert_exporter": "python",
   "pygments_lexer": "ipython3",
   "version": "3.7.3"
  }
 },
 "nbformat": 4,
 "nbformat_minor": 2
}
