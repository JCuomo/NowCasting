{
 "cells": [
  {
   "cell_type": "markdown",
   "metadata": {},
   "source": [
    "# Prediction with Composite model"
   ]
  },
  {
   "cell_type": "code",
   "execution_count": 1,
   "metadata": {},
   "outputs": [
    {
     "name": "stdout",
     "output_type": "stream",
     "text": [
      "/s/chopin/d/proj/jcuomo/699/repository\n"
     ]
    }
   ],
   "source": [
    "import context\n",
    "from mlnowcasting.composite import composite_prediction"
   ]
  },
  {
   "cell_type": "markdown",
   "metadata": {},
   "source": [
    "To use the composite model there are some requirements:\n",
    " - in the same directory as the base model there should be the checkpoints and parameters of the binary predictions (this repository doesn't have any, you need to downloaded)\n",
    "        for example if base model is \"resConv_16_16\" there should be files like \"resConv_16_16_bin20.pth\" and \"resConv16_16_bin20.params\" for every desired binary prediction (possibles are 20, 25, 30, 35, 40, 45, 50)\n",
    " - the binary predictions should share same architecture as base model.\n",
    " \n",
    "If you want to combined models, or use different binary thresholds you should do it by hand and not use the composite_prediction() function."
   ]
  },
  {
   "cell_type": "code",
   "execution_count": 4,
   "metadata": {},
   "outputs": [
    {
     "name": "stdout",
     "output_type": "stream",
     "text": [
      "=> loaded checkpoint 'convGRU_16_16.pth' (trained for 300 epochs)\n"
     ]
    },
    {
     "data": {
      "text/plain": [
       "(10, 16, 64, 64)"
      ]
     },
     "execution_count": 4,
     "metadata": {},
     "output_type": "execute_result"
    }
   ],
   "source": [
    "dataset    = 'example_dataset'\n",
    "base_model_name = 'convGRU_16_16'\n",
    "th_dbz = 20 # reflectivity threshold for computing the metrics\n",
    "N = 0 # sample from dataset\n",
    "prediction, target, layers = composite_prediction(dataset, base_model_name)\n",
    "prediction.shape"
   ]
  },
  {
   "cell_type": "code",
   "execution_count": null,
   "metadata": {},
   "outputs": [],
   "source": []
  }
 ],
 "metadata": {
  "kernelspec": {
   "display_name": "Python (gpu)",
   "language": "python",
   "name": "gpu"
  },
  "language_info": {
   "codemirror_mode": {
    "name": "ipython",
    "version": 3
   },
   "file_extension": ".py",
   "mimetype": "text/x-python",
   "name": "python",
   "nbconvert_exporter": "python",
   "pygments_lexer": "ipython3",
   "version": "3.7.6"
  }
 },
 "nbformat": 4,
 "nbformat_minor": 2
}
